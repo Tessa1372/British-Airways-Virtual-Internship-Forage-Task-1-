{
 "cells": [
  {
   "cell_type": "markdown",
   "metadata": {},
   "source": [
    "## BRITISH AIRWAYS: FORAGE"
   ]
  },
  {
   "cell_type": "markdown",
   "metadata": {},
   "source": [
    "\n",
    "\n",
    "---\n",
    "\n",
    "## Web scraping and analysis\n",
    "\n",
    " We will use a package called `BeautifulSoup` to collect the data from the web. Once the data is collected and saved it into a `.csv` file we can start with analysis.\n",
    "\n",
    "### Scraping data from Skytrax.\n",
    "\n",
    "If you navigate to this link: [https://www.airlinequality.com/airline-reviews/british-airways] you will see this data. "
   ]
  },
  {
   "cell_type": "code",
   "execution_count": 2,
   "metadata": {},
   "outputs": [],
   "source": [
    "import requests\n",
    "from bs4 import BeautifulSoup\n",
    "import pandas as pd"
   ]
  },
  {
   "cell_type": "code",
   "execution_count": 2,
   "metadata": {},
   "outputs": [
    {
     "name": "stdout",
     "output_type": "stream",
     "text": [
      "Scraping page 1\n",
      "   ---> 100 total reviews\n",
      "Scraping page 2\n",
      "   ---> 200 total reviews\n",
      "Scraping page 3\n",
      "   ---> 300 total reviews\n",
      "Scraping page 4\n",
      "   ---> 400 total reviews\n",
      "Scraping page 5\n",
      "   ---> 500 total reviews\n",
      "Scraping page 6\n",
      "   ---> 600 total reviews\n",
      "Scraping page 7\n",
      "   ---> 700 total reviews\n",
      "Scraping page 8\n",
      "   ---> 800 total reviews\n",
      "Scraping page 9\n",
      "   ---> 900 total reviews\n",
      "Scraping page 10\n",
      "   ---> 1000 total reviews\n"
     ]
    }
   ],
   "source": [
    "base_url = \"https://www.airlinequality.com/airline-reviews/british-airways\"\n",
    "pages = 10\n",
    "page_size = 100\n",
    "\n",
    "reviews = []\n",
    "\n",
    "# for i in range(1, pages + 1):\n",
    "for i in range(1, pages + 1):\n",
    "\n",
    "    print(f\"Scraping page {i}\")\n",
    "\n",
    "    # Create URL to collect links from paginated data\n",
    "    url = f\"{base_url}/page/{i}/?sortby=post_date%3ADesc&pagesize={page_size}\"\n",
    "\n",
    "    # Collect HTML data from this page\n",
    "    response = requests.get(url)\n",
    "\n",
    "    # Parse content\n",
    "    content = response.content\n",
    "    parsed_content = BeautifulSoup(content, 'html.parser')\n",
    "    for para in parsed_content.find_all(\"div\", {\"class\": \"text_content\"}):\n",
    "        reviews.append(para.get_text())\n",
    "    \n",
    "    print(f\"   ---> {len(reviews)} total reviews\")"
   ]
  },
  {
   "cell_type": "code",
   "execution_count": 3,
   "metadata": {},
   "outputs": [
    {
     "data": {
      "text/html": [
       "<div>\n",
       "<style scoped>\n",
       "    .dataframe tbody tr th:only-of-type {\n",
       "        vertical-align: middle;\n",
       "    }\n",
       "\n",
       "    .dataframe tbody tr th {\n",
       "        vertical-align: top;\n",
       "    }\n",
       "\n",
       "    .dataframe thead th {\n",
       "        text-align: right;\n",
       "    }\n",
       "</style>\n",
       "<table border=\"1\" class=\"dataframe\">\n",
       "  <thead>\n",
       "    <tr style=\"text-align: right;\">\n",
       "      <th></th>\n",
       "      <th>reviews</th>\n",
       "    </tr>\n",
       "  </thead>\n",
       "  <tbody>\n",
       "    <tr>\n",
       "      <th>0</th>\n",
       "      <td>✅ Trip Verified |   1. Ground crew in Heathrow...</td>\n",
       "    </tr>\n",
       "    <tr>\n",
       "      <th>1</th>\n",
       "      <td>✅ Trip Verified |  London Heathrow to Gibralta...</td>\n",
       "    </tr>\n",
       "    <tr>\n",
       "      <th>2</th>\n",
       "      <td>✅ Trip Verified | First time flying British Ai...</td>\n",
       "    </tr>\n",
       "    <tr>\n",
       "      <th>3</th>\n",
       "      <td>Not Verified |  I flew London to Cairo and ret...</td>\n",
       "    </tr>\n",
       "    <tr>\n",
       "      <th>4</th>\n",
       "      <td>Not Verified |  Absolutely the worst experienc...</td>\n",
       "    </tr>\n",
       "  </tbody>\n",
       "</table>\n",
       "</div>"
      ],
      "text/plain": [
       "                                             reviews\n",
       "0  ✅ Trip Verified |   1. Ground crew in Heathrow...\n",
       "1  ✅ Trip Verified |  London Heathrow to Gibralta...\n",
       "2  ✅ Trip Verified | First time flying British Ai...\n",
       "3  Not Verified |  I flew London to Cairo and ret...\n",
       "4  Not Verified |  Absolutely the worst experienc..."
      ]
     },
     "execution_count": 3,
     "metadata": {},
     "output_type": "execute_result"
    }
   ],
   "source": [
    "df = pd.DataFrame()\n",
    "df[\"reviews\"] = reviews\n",
    "df.head()"
   ]
  },
  {
   "cell_type": "code",
   "execution_count": 9,
   "metadata": {},
   "outputs": [],
   "source": [
    "df.to_csv(\"Documents/BA_reviews.csv\")"
   ]
  },
  {
   "cell_type": "markdown",
   "metadata": {},
   "source": [
    "Congratulations! Now you have your dataset for this task! The loops above collected 1000 reviews by iterating through the paginated pages on the website. However, if you want to collect more data, try increasing the number of pages!\n",
    "\n",
    " The next thing that you should do is clean this data to remove any unnecessary text from each of the rows. For example, \"✅ Trip Verified\" can be removed from each row if it exists, as it's not relevant to what we want to investigate."
   ]
  },
  {
   "cell_type": "markdown",
   "metadata": {},
   "source": [
    "## SENTIMENT ANALYSIS"
   ]
  },
  {
   "cell_type": "code",
   "execution_count": 10,
   "metadata": {},
   "outputs": [
    {
     "name": "stdout",
     "output_type": "stream",
     "text": [
      "Requirement already satisfied: nltk in c:\\users\\tessa\\anaconda3\\lib\\site-packages (3.8.1)\n",
      "Collecting textblob\n",
      "  Downloading textblob-0.17.1-py2.py3-none-any.whl (636 kB)\n",
      "     ---------------------------------------- 0.0/636.8 kB ? eta -:--:--\n",
      "     ----- --------------------------------- 81.9/636.8 kB 4.8 MB/s eta 0:00:01\n",
      "     -------------------- ----------------- 337.9/636.8 kB 4.2 MB/s eta 0:00:01\n",
      "     -------------------------------------- 636.8/636.8 kB 5.7 MB/s eta 0:00:00\n",
      "Requirement already satisfied: pandas in c:\\users\\tessa\\anaconda3\\lib\\site-packages (1.5.3)\n",
      "Requirement already satisfied: click in c:\\users\\tessa\\anaconda3\\lib\\site-packages (from nltk) (8.0.4)\n",
      "Requirement already satisfied: joblib in c:\\users\\tessa\\anaconda3\\lib\\site-packages (from nltk) (1.2.0)\n",
      "Requirement already satisfied: regex>=2021.8.3 in c:\\users\\tessa\\anaconda3\\lib\\site-packages (from nltk) (2022.7.9)\n",
      "Requirement already satisfied: tqdm in c:\\users\\tessa\\anaconda3\\lib\\site-packages (from nltk) (4.65.0)\n",
      "Requirement already satisfied: python-dateutil>=2.8.1 in c:\\users\\tessa\\anaconda3\\lib\\site-packages (from pandas) (2.8.2)\n",
      "Requirement already satisfied: pytz>=2020.1 in c:\\users\\tessa\\anaconda3\\lib\\site-packages (from pandas) (2022.7)\n",
      "Requirement already satisfied: numpy>=1.21.0 in c:\\users\\tessa\\anaconda3\\lib\\site-packages (from pandas) (1.24.3)\n",
      "Requirement already satisfied: six>=1.5 in c:\\users\\tessa\\anaconda3\\lib\\site-packages (from python-dateutil>=2.8.1->pandas) (1.16.0)\n",
      "Requirement already satisfied: colorama in c:\\users\\tessa\\anaconda3\\lib\\site-packages (from click->nltk) (0.4.6)\n",
      "Installing collected packages: textblob\n",
      "Successfully installed textblob-0.17.1\n",
      "Note: you may need to restart the kernel to use updated packages.\n"
     ]
    }
   ],
   "source": [
    "pip install nltk textblob pandas\n"
   ]
  },
  {
   "cell_type": "code",
   "execution_count": 18,
   "metadata": {},
   "outputs": [
    {
     "name": "stdout",
     "output_type": "stream",
     "text": [
      "Current Working Directory: C:\\Users\\tessa\n"
     ]
    }
   ],
   "source": [
    "import os\n",
    "print(\"Current Working Directory:\", os.getcwd())"
   ]
  },
  {
   "cell_type": "code",
   "execution_count": 21,
   "metadata": {},
   "outputs": [
    {
     "name": "stdout",
     "output_type": "stream",
     "text": [
      "                                                  DATA  \\\n",
      "0    1. Ground crew in Heathrow left 60 passengers ...   \n",
      "1    London Heathrow to Gibraltar on 24th October 2...   \n",
      "2    First time flying British Airways and I would ...   \n",
      "3    lew London to Cairo and return in October 2023...   \n",
      "4    olutely the worst experience ever.  Flew into ...   \n",
      "..                                                 ...   \n",
      "995  Boston to London. World Traveler seats. Nice h...   \n",
      "996  London to Athens. We were fortunate to get exi...   \n",
      "997  London to Johannesburg. So impressed by the la...   \n",
      "998  Newark to Bangalore return via London on BA pr...   \n",
      "999  London to Berlin scheduled for 21st December. ...   \n",
      "\n",
      "                                            Unnamed: 1   Unnamed: 2  \\\n",
      "0                                                  NaN          NaN   \n",
      "1    on was inefficient though and poorly managed a...  to be seen.   \n",
      "2                                                  NaN          NaN   \n",
      "3                                                  NaN          NaN   \n",
      "4                                                  NaN          NaN   \n",
      "..                                                 ...          ...   \n",
      "995                                                NaN          NaN   \n",
      "996                                                NaN          NaN   \n",
      "997                                                NaN          NaN   \n",
      "998  here is also a hot towel service also. 787 cab...  nicely done   \n",
      "999                                                NaN          NaN   \n",
      "\n",
      "    Unnamed: 3          Unnamed: 4 Unnamed: 5  Unnamed: 6 Unnamed: 7  \\\n",
      "0          NaN                 NaN        NaN         NaN        NaN   \n",
      "1          The   crew were wearing        the   new BA un  iform and   \n",
      "2          NaN                 NaN        NaN         NaN        NaN   \n",
      "3          NaN                 NaN        NaN         NaN        NaN   \n",
      "4          NaN                 NaN        NaN         NaN        NaN   \n",
      "..         ...                 ...        ...         ...        ...   \n",
      "995        NaN                 NaN        NaN         NaN        NaN   \n",
      "996        NaN                 NaN        NaN         NaN        NaN   \n",
      "997        NaN                 NaN        NaN         NaN        NaN   \n",
      "998       prem  ium economy cabin.     02-Mar  -2 seating   as oppos   \n",
      "999        NaN                 NaN        NaN         NaN        NaN   \n",
      "\n",
      "     Unnamed: 8 Unnamed: 9  ... Unnamed: 30 Unnamed: 31 Unnamed: 32  \\\n",
      "0           NaN        NaN  ...         NaN         NaN         NaN   \n",
      "1      it seems         to  ...       iffer        ence           b   \n",
      "2           NaN        NaN  ...         NaN         NaN         NaN   \n",
      "3           NaN        NaN  ...         NaN         NaN         NaN   \n",
      "4           NaN        NaN  ...         NaN         NaN         NaN   \n",
      "..          ...        ...  ...         ...         ...         ...   \n",
      "995         NaN        NaN  ...         NaN         NaN         NaN   \n",
      "996         NaN        NaN  ...         NaN         NaN         NaN   \n",
      "997         NaN        NaN  ...         NaN         NaN         NaN   \n",
      "998  ed to 3-3-        3 i  ...       are n        ew s          ty   \n",
      "999         NaN        NaN  ...         NaN         NaN         NaN   \n",
      "\n",
      "    Unnamed: 33 Unnamed: 34 Unnamed: 35 Unnamed: 36 Unnamed: 37  \\\n",
      "0           NaN         NaN         NaN         NaN         NaN   \n",
      "1        etween          th        is B   A service  and that o   \n",
      "2           NaN         NaN         NaN         NaN         NaN   \n",
      "3           NaN         NaN         NaN         NaN         NaN   \n",
      "4           NaN         NaN         NaN         NaN         NaN   \n",
      "..          ...         ...         ...         ...         ...   \n",
      "995         NaN         NaN         NaN         NaN         NaN   \n",
      "996         NaN         NaN         NaN         NaN         NaN   \n",
      "997         NaN         NaN         NaN         NaN         NaN   \n",
      "998      le sli         mme        r se  ats though    possibly   \n",
      "999         NaN         NaN         NaN         NaN         NaN   \n",
      "\n",
      "                                           Unnamed: 38 sentiment  \n",
      "0                                                  NaN  Negative  \n",
      "1    f so-called âbudgetâ rivals. On this route...  Positive  \n",
      "2                                                  NaN  Positive  \n",
      "3                                                  NaN  Positive  \n",
      "4                                                  NaN  Negative  \n",
      "..                                                 ...       ...  \n",
      "995                                                NaN  Positive  \n",
      "996                                                NaN  Positive  \n",
      "997                                                NaN  Positive  \n",
      "998  less cushioned than what you get on older seat...  Positive  \n",
      "999                                                NaN  Positive  \n",
      "\n",
      "[1000 rows x 40 columns]\n"
     ]
    }
   ],
   "source": [
    "import pandas as pd\n",
    "from textblob import TextBlob\n",
    "\n",
    "# Loading the CSV file with specified encoding\n",
    "file_path = r\"C:\\Users\\tessa\\Documents\\BA_reviews.csv\"\n",
    "df = pd.read_csv(file_path, encoding='ISO-8859-1')  \n",
    "\n",
    "#column name containing the text data for sentiment analysis\n",
    "text_column = 'DATA'\n",
    "\n",
    "# Function to perform sentiment analysis using TextBlob\n",
    "def analyze_sentiment(text):\n",
    "    analysis = TextBlob(str(text))  # Ensure the data is treated as a string\n",
    "    # Classify the polarity of the text (positive, negative, or neutral)\n",
    "    if analysis.sentiment.polarity > 0:\n",
    "        return 'Positive'\n",
    "    elif analysis.sentiment.polarity < 0:\n",
    "        return 'Negative'\n",
    "    else:\n",
    "        return 'Neutral'\n",
    "\n",
    "# Apply the sentiment analysis function to the specified column and create a new column 'sentiment'\n",
    "df['sentiment'] = df[text_column].apply(analyze_sentiment)\n",
    "\n",
    "# Print the DataFrame with the sentiment analysis results\n",
    "print(df)\n"
   ]
  },
  {
   "cell_type": "code",
   "execution_count": 22,
   "metadata": {},
   "outputs": [
    {
     "name": "stdout",
     "output_type": "stream",
     "text": [
      "Number of Positive Sentiments: 645\n",
      "Number of Negative Sentiments: 344\n",
      "Number of Neutral Sentiments: 11\n"
     ]
    }
   ],
   "source": [
    "\n",
    "# Count the number of positive, negative, and neutral sentiments\n",
    "sentiment_counts = df['sentiment'].value_counts()\n",
    "\n",
    "# Print the count of positive, negative, and neutral sentiments\n",
    "print(\"Number of Positive Sentiments:\", sentiment_counts['Positive'])\n",
    "print(\"Number of Negative Sentiments:\", sentiment_counts['Negative'])\n",
    "print(\"Number of Neutral Sentiments:\", sentiment_counts['Neutral'])\n"
   ]
  },
  {
   "cell_type": "code",
   "execution_count": 1,
   "metadata": {},
   "outputs": [
    {
     "data": {
      "image/png": "[encoded data removed]",
      "text/plain": [
       "<Figure size 800x600 with 1 Axes>"
      ]
     },
     "metadata": {},
     "output_type": "display_data"
    }
   ],
   "source": [
    "import pandas as pd\n",
    "import matplotlib.pyplot as plt\n",
    "\n",
    "sentiment_counts = {\n",
    "    'Positive': 645,\n",
    "    'Negative': 344,\n",
    "    'Neutral': 11\n",
    "}\n",
    "\n",
    "sentiment_series = pd.Series(sentiment_counts)\n",
    "\n",
    "# Plotting\n",
    "plt.figure(figsize=(8, 6))\n",
    "sentiment_series.plot(kind='bar', color=['green', 'red', 'gray'])\n",
    "plt.title('Sentiment Analysis')\n",
    "plt.xlabel('Sentiment')\n",
    "plt.ylabel('Count')\n",
    "plt.xticks(rotation=0) \n",
    "plt.show()\n"
   ]
  },
  {
   "cell_type": "markdown",
   "metadata": {},
   "source": [
    "## TOPIC MODELLING"
   ]
  },
  {
   "cell_type": "code",
   "execution_count": 24,
   "metadata": {},
   "outputs": [
    {
     "name": "stdout",
     "output_type": "stream",
     "text": [
      "Requirement already satisfied: gensim in c:\\users\\tessa\\anaconda3\\lib\\site-packages (4.3.0)\n",
      "Requirement already satisfied: nltk in c:\\users\\tessa\\anaconda3\\lib\\site-packages (3.8.1)\n",
      "Requirement already satisfied: numpy>=1.18.5 in c:\\users\\tessa\\anaconda3\\lib\\site-packages (from gensim) (1.24.3)\n",
      "Requirement already satisfied: scipy>=1.7.0 in c:\\users\\tessa\\anaconda3\\lib\\site-packages (from gensim) (1.10.1)\n",
      "Requirement already satisfied: smart-open>=1.8.1 in c:\\users\\tessa\\anaconda3\\lib\\site-packages (from gensim) (5.2.1)\n",
      "Collecting FuzzyTM>=0.4.0 (from gensim)\n",
      "  Downloading FuzzyTM-2.0.5-py3-none-any.whl (29 kB)\n",
      "Requirement already satisfied: click in c:\\users\\tessa\\anaconda3\\lib\\site-packages (from nltk) (8.0.4)\n",
      "Requirement already satisfied: joblib in c:\\users\\tessa\\anaconda3\\lib\\site-packages (from nltk) (1.2.0)\n",
      "Requirement already satisfied: regex>=2021.8.3 in c:\\users\\tessa\\anaconda3\\lib\\site-packages (from nltk) (2022.7.9)\n",
      "Requirement already satisfied: tqdm in c:\\users\\tessa\\anaconda3\\lib\\site-packages (from nltk) (4.65.0)\n",
      "Requirement already satisfied: pandas in c:\\users\\tessa\\anaconda3\\lib\\site-packages (from FuzzyTM>=0.4.0->gensim) (1.5.3)\n",
      "Collecting pyfume (from FuzzyTM>=0.4.0->gensim)\n",
      "  Downloading pyFUME-0.2.25-py3-none-any.whl (67 kB)\n",
      "     ---------------------------------------- 0.0/67.1 kB ? eta -:--:--\n",
      "     ---------------------------------------- 67.1/67.1 kB 3.6 MB/s eta 0:00:00\n",
      "Requirement already satisfied: colorama in c:\\users\\tessa\\anaconda3\\lib\\site-packages (from click->nltk) (0.4.6)\n",
      "Requirement already satisfied: python-dateutil>=2.8.1 in c:\\users\\tessa\\anaconda3\\lib\\site-packages (from pandas->FuzzyTM>=0.4.0->gensim) (2.8.2)\n",
      "Requirement already satisfied: pytz>=2020.1 in c:\\users\\tessa\\anaconda3\\lib\\site-packages (from pandas->FuzzyTM>=0.4.0->gensim) (2022.7)\n",
      "Collecting simpful (from pyfume->FuzzyTM>=0.4.0->gensim)\n",
      "  Downloading simpful-2.11.0-py3-none-any.whl (32 kB)\n",
      "Collecting fst-pso (from pyfume->FuzzyTM>=0.4.0->gensim)\n",
      "  Downloading fst-pso-1.8.1.tar.gz (18 kB)\n",
      "  Preparing metadata (setup.py): started\n",
      "  Preparing metadata (setup.py): finished with status 'done'\n",
      "Requirement already satisfied: six>=1.5 in c:\\users\\tessa\\anaconda3\\lib\\site-packages (from python-dateutil>=2.8.1->pandas->FuzzyTM>=0.4.0->gensim) (1.16.0)\n",
      "Collecting miniful (from fst-pso->pyfume->FuzzyTM>=0.4.0->gensim)\n",
      "  Downloading miniful-0.0.6.tar.gz (2.8 kB)\n",
      "  Preparing metadata (setup.py): started\n",
      "  Preparing metadata (setup.py): finished with status 'done'\n",
      "Building wheels for collected packages: fst-pso, miniful\n",
      "  Building wheel for fst-pso (setup.py): started\n",
      "  Building wheel for fst-pso (setup.py): finished with status 'done'\n",
      "  Created wheel for fst-pso: filename=fst_pso-1.8.1-py3-none-any.whl size=20448 sha256=20772309708afb01a62831aed45abbd320a3ba68d3616fe203da6184b4b032b2\n",
      "  Stored in directory: c:\\users\\tessa\\appdata\\local\\pip\\cache\\wheels\\69\\f5\\e5\\18ad53fe1ed6b2af9fad05ec052e4acbac8e92441df44bad2e\n",
      "  Building wheel for miniful (setup.py): started\n",
      "  Building wheel for miniful (setup.py): finished with status 'done'\n",
      "  Created wheel for miniful: filename=miniful-0.0.6-py3-none-any.whl size=3522 sha256=0213f5481091d919e7a8d849c83cba0ee37ae133105a88be59485598f6da8f68\n",
      "  Stored in directory: c:\\users\\tessa\\appdata\\local\\pip\\cache\\wheels\\9d\\ff\\2f\\afe4cd56f47de147407705626517d68bea0f3b74eb1fb168e6\n",
      "Successfully built fst-pso miniful\n",
      "Installing collected packages: simpful, miniful, fst-pso, pyfume, FuzzyTM\n",
      "Successfully installed FuzzyTM-2.0.5 fst-pso-1.8.1 miniful-0.0.6 pyfume-0.2.25 simpful-2.11.0\n",
      "Note: you may need to restart the kernel to use updated packages.\n"
     ]
    }
   ],
   "source": [
    "pip install gensim nltk\n"
   ]
  },
  {
   "cell_type": "code",
   "execution_count": 27,
   "metadata": {},
   "outputs": [
    {
     "name": "stderr",
     "output_type": "stream",
     "text": [
      "[nltk_data] Downloading package stopwords to\n",
      "[nltk_data]     C:\\Users\\tessa\\AppData\\Roaming\\nltk_data...\n",
      "[nltk_data]   Unzipping corpora\\stopwords.zip.\n"
     ]
    },
    {
     "data": {
      "text/plain": [
       "True"
      ]
     },
     "execution_count": 27,
     "metadata": {},
     "output_type": "execute_result"
    }
   ],
   "source": [
    "import nltk\n",
    "\n",
    "# Download the stopwords dataset\n",
    "nltk.download('stopwords')\n"
   ]
  },
  {
   "cell_type": "code",
   "execution_count": 31,
   "metadata": {},
   "outputs": [
    {
     "name": "stdout",
     "output_type": "stream",
     "text": [
      "(0, '0.017*\"us\" + 0.015*\"london\" + 0.014*\"hours\" + 0.014*\"told\" + 0.013*\"airways\" + 0.013*\"british\" + 0.012*\"customer\" + 0.012*\"cancelled\" + 0.011*\"would\" + 0.011*\"service\"')\n",
      "(1, '0.022*\"staff\" + 0.019*\"boarding\" + 0.019*\"crew\" + 0.018*\"time\" + 0.016*\"passengers\" + 0.014*\"cabin\" + 0.014*\"check\" + 0.012*\"gate\" + 0.012*\"minutes\" + 0.012*\"one\"')\n",
      "(2, '0.044*\"class\" + 0.040*\"business\" + 0.026*\"economy\" + 0.021*\"service\" + 0.019*\"seat\" + 0.015*\"cabin\" + 0.014*\"meal\" + 0.013*\"one\" + 0.012*\"get\" + 0.011*\"seats\"')\n",
      "(3, '0.027*\"seats\" + 0.022*\"service\" + 0.022*\"seat\" + 0.022*\"airways\" + 0.021*\"british\" + 0.019*\"airline\" + 0.016*\"london\" + 0.013*\"class\" + 0.012*\"flights\" + 0.012*\"business\"')\n",
      "(4, '0.039*\"good\" + 0.026*\"food\" + 0.024*\"crew\" + 0.019*\"service\" + 0.016*\"time\" + 0.016*\"cabin\" + 0.015*\"london\" + 0.014*\"seat\" + 0.014*\"great\" + 0.013*\"club\"')\n"
     ]
    }
   ],
   "source": [
    "import pandas as pd\n",
    "from nltk.corpus import stopwords\n",
    "from nltk.tokenize import word_tokenize\n",
    "from gensim.corpora import Dictionary\n",
    "from gensim.models.ldamodel import LdaModel\n",
    "from gensim import corpora\n",
    "import string\n",
    "file_path = r\"C:\\Users\\tessa\\Documents\\BA_reviews.csv\"\n",
    "df = pd.read_csv(file_path, encoding='ISO-8859-1')\n",
    "text_column = 'DATA'\n",
    "\n",
    "# Tokenize data\n",
    "stop_words = set(stopwords.words('english'))\n",
    "punctuations = set(string.punctuation)\n",
    "\n",
    "def preprocess_text(text):\n",
    "    tokens = word_tokenize(text.lower())  \n",
    "    tokens = [token for token in tokens if token.isalpha()] \n",
    "    tokens = [token for token in tokens if token not in stop_words]  \n",
    "    return tokens\n",
    "\n",
    "df['tokens'] = df[text_column].apply(preprocess_text)\n",
    "\n",
    "# Create a dictionary representation of the documents\n",
    "dictionary = Dictionary(df['tokens'])\n",
    "\n",
    "# Filter out words that occur less than 20 documents or more than 50% of the documents\n",
    "dictionary.filter_extremes(no_below=20, no_above=0.5)\n",
    "\n",
    "# Create a corpus based on the dictionary\n",
    "corpus = [dictionary.doc2bow(tokens) for tokens in df['tokens']]\n",
    "\n",
    "# Train the LDA model\n",
    "num_topics = 5 \n",
    "lda_model = LdaModel(corpus=corpus, id2word=dictionary, num_topics=num_topics, passes=15, random_state=42)\n",
    "\n",
    "# Print the topics\n",
    "topics = lda_model.print_topics(num_words=10)\n",
    "for topic in topics:\n",
    "    print(topic)\n"
   ]
  }
 ],
 "metadata": {
  "kernelspec": {
   "display_name": "Python 3 (ipykernel)",
   "language": "python",
   "name": "python3"
  },
  "language_info": {
   "codemirror_mode": {
    "name": "ipython",
    "version": 3
   },
   "file_extension": ".py",
   "mimetype": "text/x-python",
   "name": "python",
   "nbconvert_exporter": "python",
   "pygments_lexer": "ipython3",
   "version": "3.11.4"
  },
  "vscode": {
   "interpreter": {
    "hash": "4f7924c4c56b083e0e50eadfe7ef592a7a8ef70df33a0047f82280e6be1afe15"
   }
  }
 },
 "nbformat": 4,
 "nbformat_minor": 2
}
